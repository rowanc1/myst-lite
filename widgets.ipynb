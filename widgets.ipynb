{
 "cells": [
  {
   "attachments": {},
   "cell_type": "markdown",
   "metadata": {},
   "source": [
    "---\n",
    "title: Using Widgets\n",
    "subtitle: Directly in JupyterLite\n",
    "---"
   ]
  },
  {
   "cell_type": "code",
   "execution_count": null,
   "metadata": {},
   "outputs": [],
   "source": [
    "%pip install ipywidgets"
   ]
  },
  {
   "cell_type": "code",
   "execution_count": 9,
   "metadata": {},
   "outputs": [],
   "source": [
    "import ipywidgets as widgets\n",
    "from IPython.display import display\n",
    "import numpy as np\n",
    "import matplotlib.pyplot as plt"
   ]
  },
  {
   "cell_type": "code",
   "execution_count": 10,
   "metadata": {},
   "outputs": [],
   "source": [
    "cookiesSlider = widgets.IntSlider(min=0, max=30, step=1, value=10, description=\"Cookies: \")\n",
    "cookiesText = widgets.BoundedIntText(\n",
    "    value=10,\n",
    "    min=0,\n",
    "    max=30,\n",
    "    step=1,\n",
    ")\n",
    "widgetLink = widgets.jslink((cookiesSlider, 'value'), (cookiesText, 'value'))\n",
    "\n",
    "caloriesPerCookie = 50\n",
    "dailyCalories = 2100.\n",
    "\n",
    "cookies = widgets.Label(value=f'{cookiesSlider.value}')\n",
    "calories = widgets.Label(value=f'{cookiesSlider.value * caloriesPerCookie}')\n",
    "def fc(n):\n",
    "    cookies.value = f'{n[\"owner\"].value}'\n",
    "    calories.value = f'{n[\"owner\"].value * caloriesPerCookie}'\n",
    "cookiesSlider.observe(fc)\n",
    "\n",
    "\n",
    "percent = widgets.Label(value=f'{cookiesSlider.value * caloriesPerCookie / dailyCalories:.1%}')\n",
    "def fp(n):\n",
    "    percent.value = f'{n[\"owner\"].value * caloriesPerCookie / dailyCalories:.1%}'\n",
    "cookiesSlider.observe(fp)"
   ]
  },
  {
   "cell_type": "code",
   "execution_count": 11,
   "metadata": {},
   "outputs": [
    {
     "data": {
      "application/vnd.jupyter.widget-view+json": {
       "model_id": "55d8e15d07ee46a2b0a2f5be3066387e",
       "version_major": 2,
       "version_minor": 0
      },
      "text/plain": [
       "IntSlider(value=10, description='Cookies: ', max=30)"
      ]
     },
     "metadata": {},
     "output_type": "display_data"
    },
    {
     "data": {
      "application/vnd.jupyter.widget-view+json": {
       "model_id": "074a9b1f9a2646fe8180ba048c57c5ad",
       "version_major": 2,
       "version_minor": 0
      },
      "text/plain": [
       "Label(value='23.8%')"
      ]
     },
     "metadata": {},
     "output_type": "display_data"
    }
   ],
   "source": [
    "#| label: cookies\n",
    "display(cookiesSlider, percent)"
   ]
  },
  {
   "cell_type": "code",
   "execution_count": 25,
   "metadata": {},
   "outputs": [],
   "source": [
    "def plot(freq=1., color='blue', lw=2, grid=True):\n",
    "    t = np.linspace(-1., +1., 1000)\n",
    "    fig, ax = plt.subplots(1, 1, figsize=(8, 6))\n",
    "    ax.plot(t, np.sin(2 * np.pi * freq * t),\n",
    "            lw=lw, color=color)\n",
    "    ax.grid(grid)\n",
    "    plt.show()\n",
    "\n",
    "freq = widgets.FloatSlider(min=0.1, max=5.0, step=0.5, value=1, description=\"Frequency: \")\n",
    "w = widgets.interactive(plot, freq=freq, color=['blue', 'red', 'green'], lw=(1., 10.))"
   ]
  },
  {
   "cell_type": "code",
   "execution_count": 26,
   "metadata": {},
   "outputs": [
    {
     "data": {
      "application/vnd.jupyter.widget-view+json": {
       "model_id": "372ac06bc40c494881fdbd3a01c0fa3b",
       "version_major": 2,
       "version_minor": 0
      },
      "text/plain": [
       "interactive(children=(FloatSlider(value=1.0, description='Frequency: ', max=5.0, min=0.1, step=0.5), Dropdown(…"
      ]
     },
     "metadata": {},
     "output_type": "display_data"
    }
   ],
   "source": [
    "#| label: frequency\n",
    "display(w)"
   ]
  },
  {
   "cell_type": "code",
   "execution_count": null,
   "metadata": {},
   "outputs": [],
   "source": []
  }
 ],
 "metadata": {
  "kernelspec": {
   "display_name": "jlab4",
   "language": "python",
   "name": "python3"
  },
  "language_info": {
   "codemirror_mode": {
    "name": "ipython",
    "version": 3
   },
   "file_extension": ".py",
   "mimetype": "text/x-python",
   "name": "python",
   "nbconvert_exporter": "python",
   "pygments_lexer": "ipython3",
   "version": "3.9.7"
  },
  "orig_nbformat": 4
 },
 "nbformat": 4,
 "nbformat_minor": 2
}
