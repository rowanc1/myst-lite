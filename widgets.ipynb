{
 "cells": [
  {
   "attachments": {},
   "cell_type": "markdown",
   "metadata": {},
   "source": [
    "---\n",
    "title: Using Widgets\n",
    "subtitle: Directly in JupyterLite\n",
    "---"
   ]
  },
  {
   "cell_type": "code",
   "execution_count": null,
   "metadata": {},
   "outputs": [],
   "source": [
    "%pip install ipywidgets"
   ]
  },
  {
   "cell_type": "code",
   "execution_count": 16,
   "metadata": {},
   "outputs": [
    {
     "name": "stdout",
     "output_type": "stream",
     "text": [
      "8.0.4\n"
     ]
    }
   ],
   "source": [
    "import ipywidgets as widgets\n",
    "print(widgets.__version__)"
   ]
  },
  {
   "cell_type": "code",
   "execution_count": 3,
   "metadata": {},
   "outputs": [
    {
     "data": {
      "application/vnd.jupyter.widget-view+json": {
       "model_id": "b8eeb503ca6a4f96985a8771d159d8e3",
       "version_major": 2,
       "version_minor": 0
      },
      "text/plain": [
       "IntSlider(value=10, description='Cookies: ', max=30)"
      ]
     },
     "metadata": {},
     "output_type": "display_data"
    },
    {
     "data": {
      "application/vnd.jupyter.widget-view+json": {
       "model_id": "21db56e598864850bd9711f9af7d9179",
       "version_major": 2,
       "version_minor": 0
      },
      "text/plain": [
       "Label(value='23.8%')"
      ]
     },
     "metadata": {},
     "output_type": "display_data"
    }
   ],
   "source": [
    "\n",
    "from IPython.display import display\n",
    "\n",
    "cookiesSlider = widgets.IntSlider(min=0, max=30, step=1, value=10, description=\"Cookies: \")\n",
    "cookiesText = widgets.BoundedIntText(\n",
    "    value=10,\n",
    "    min=0,\n",
    "    max=30,\n",
    "    step=1,\n",
    ")\n",
    "widgetLink = widgets.jslink((cookiesSlider, 'value'), (cookiesText, 'value'))\n",
    "\n",
    "caloriesPerCookie = 50\n",
    "dailyCalories = 2100.\n",
    "\n",
    "cookies = widgets.Label(value=f'{cookiesSlider.value}')\n",
    "calories = widgets.Label(value=f'{cookiesSlider.value * caloriesPerCookie}')\n",
    "def fc(n):\n",
    "    cookies.value = f'{n[\"owner\"].value}'\n",
    "    calories.value = f'{n[\"owner\"].value * caloriesPerCookie}'\n",
    "cookiesSlider.observe(fc)\n",
    "\n",
    "\n",
    "percent = widgets.Label(value=f'{cookiesSlider.value * caloriesPerCookie / dailyCalories:.1%}')\n",
    "def fp(n):\n",
    "    percent.value = f'{n[\"owner\"].value * caloriesPerCookie / dailyCalories:.1%}'\n",
    "cookiesSlider.observe(fp)\n",
    "\n",
    "display(cookiesSlider, percent)"
   ]
  },
  {
   "cell_type": "code",
   "execution_count": 10,
   "metadata": {},
   "outputs": [
    {
     "data": {
      "application/vnd.jupyter.widget-view+json": {
       "model_id": "0ed6e05d068c4262bba94b965b6bf86b",
       "version_major": 2,
       "version_minor": 0
      },
      "text/plain": [
       "interactive(children=(FloatSlider(value=1.0, description='freq', max=3.0, min=-1.0), Dropdown(description='col…"
      ]
     },
     "metadata": {},
     "output_type": "display_data"
    }
   ],
   "source": [
    "import matplotlib.pyplot as plt\n",
    "from IPython.display import display\n",
    "import numpy as np\n",
    "\n",
    "def plot(freq=1., color='blue', lw=2, grid=True):\n",
    "    t = np.linspace(-1., +1., 1000)\n",
    "    fig, ax = plt.subplots(1, 1, figsize=(8, 6))\n",
    "    ax.plot(t, np.sin(2 * np.pi * freq * t),\n",
    "            lw=lw, color=color)\n",
    "    ax.grid(grid)\n",
    "\n",
    "w = widgets.interactive(plot, color=['blue', 'red', 'green'], lw=(1., 10.))\n",
    "\n",
    "display(w)"
   ]
  },
  {
   "cell_type": "code",
   "execution_count": null,
   "metadata": {},
   "outputs": [],
   "source": []
  }
 ],
 "metadata": {
  "kernelspec": {
   "display_name": "jlab4",
   "language": "python",
   "name": "python3"
  },
  "language_info": {
   "codemirror_mode": {
    "name": "ipython",
    "version": 3
   },
   "file_extension": ".py",
   "mimetype": "text/x-python",
   "name": "python",
   "nbconvert_exporter": "python",
   "pygments_lexer": "ipython3",
   "version": "3.9.7"
  },
  "orig_nbformat": 4
 },
 "nbformat": 4,
 "nbformat_minor": 2
}
