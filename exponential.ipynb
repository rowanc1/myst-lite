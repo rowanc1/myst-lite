{
 "cells": [
  {
   "attachments": {},
   "cell_type": "markdown",
   "metadata": {},
   "source": [
    "---\n",
    "title: Innovation\n",
    "subtitle: Compounding Growth Rate\n",
    "---"
   ]
  },
  {
   "cell_type": "code",
   "execution_count": null,
   "metadata": {},
   "outputs": [],
   "source": [
    "%pip install ipywidgets"
   ]
  },
  {
   "cell_type": "code",
   "execution_count": 20,
   "metadata": {},
   "outputs": [],
   "source": [
    "import numpy as np\n",
    "import matplotlib.pyplot as plt\n",
    "from ipywidgets import interact, interactive\n",
    "from IPython.display import display\n",
    "\n",
    "import numpy as np\n",
    "\n",
    "from matplotlib import pyplot as plt\n",
    "\n",
    "def plot(growth_rate=0.3, kind = 'innovation'):\n",
    "    a0 = 1  # initial amount of innovation\n",
    "    r = growth_rate / 365  # growth rate per annum\n",
    "    T = 365 * 30  # days of simulation\n",
    "    Tdel = 365  # days of delay\n",
    "    a = np.zeros(T)  # amount of innovation without delay\n",
    "    adel = np.zeros(T)  # amount of innovation with delay\n",
    "    a[0] = a0\n",
    "    adel[0] = a0\n",
    "\n",
    "    for t in range(1, T):\n",
    "        a[t] = a[t - 1] + a[t - 1] * r\n",
    "        if t < Tdel + 1:\n",
    "            adel[t] = adel[t - 1]\n",
    "        else:\n",
    "            adel[t] = adel[t - 1] + adel[t - Tdel - 1] * r\n",
    "\n",
    "    # plot innovation as a function of time\n",
    "    time = np.arange(1, T + 1)\n",
    "    years = time / 365\n",
    "\n",
    "    if (kind == 'innovation'):\n",
    "        plt.figure()\n",
    "        plt.plot(years, a, 'k')\n",
    "        plt.plot(years, adel, 'r')\n",
    "        plt.xlabel('years')\n",
    "        plt.ylabel('accumulated innovation')\n",
    "    else:\n",
    "        # plot time to a given amount of innovation\n",
    "        plt.figure()\n",
    "        plt.plot(a, years, 'k')\n",
    "        plt.plot(adel, years, 'r')\n",
    "        plt.xlim([0, 1000])\n",
    "        plt.xlabel('required innovation')\n",
    "        plt.ylabel('years to achievement')\n",
    "\n",
    "    plt.show()"
   ]
  },
  {
   "cell_type": "code",
   "execution_count": 21,
   "metadata": {},
   "outputs": [
    {
     "data": {
      "application/vnd.jupyter.widget-view+json": {
       "model_id": "d78e3e3d82454be0bcf1384a741c59bb",
       "version_major": 2,
       "version_minor": 0
      },
      "text/plain": [
       "interactive(children=(FloatSlider(value=0.3, description='growth_rate', max=0.5, min=0.1, step=0.01), Dropdown…"
      ]
     },
     "metadata": {},
     "output_type": "display_data"
    }
   ],
   "source": [
    "#| label: innovation\n",
    "w = interactive(plot, growth_rate=(0.1,0.5,0.01), kind=[\"innovation\", \"achievement\"])\n",
    "display(w)"
   ]
  },
  {
   "cell_type": "code",
   "execution_count": null,
   "metadata": {},
   "outputs": [],
   "source": []
  }
 ],
 "metadata": {
  "kernelspec": {
   "display_name": "jlab4",
   "language": "python",
   "name": "python3"
  },
  "language_info": {
   "codemirror_mode": {
    "name": "ipython",
    "version": 3
   },
   "file_extension": ".py",
   "mimetype": "text/x-python",
   "name": "python",
   "nbconvert_exporter": "python",
   "pygments_lexer": "ipython3",
   "version": "3.9.7"
  },
  "orig_nbformat": 4
 },
 "nbformat": 4,
 "nbformat_minor": 2
}
