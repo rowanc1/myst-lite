{
 "cells": [
  {
   "attachments": {},
   "cell_type": "markdown",
   "metadata": {},
   "source": [
    "---\n",
    "title: Matplotlib\n",
    "subtitle: Using ipywidgets and matplotlib directly in your browser\n",
    "---"
   ]
  },
  {
   "cell_type": "code",
   "execution_count": null,
   "metadata": {},
   "outputs": [],
   "source": [
    "%pip install ipywidgets"
   ]
  },
  {
   "cell_type": "code",
   "execution_count": 4,
   "metadata": {},
   "outputs": [
    {
     "data": {
      "application/vnd.jupyter.widget-view+json": {
       "model_id": "563c21237cbc4978be294eb46eac7645",
       "version_major": 2,
       "version_minor": 0
      },
      "text/plain": [
       "interactive(children=(Dropdown(description='colormap', options=('viridis', 'plasma', 'inferno', 'magma', 'civi…"
      ]
     },
     "metadata": {},
     "output_type": "display_data"
    }
   ],
   "source": [
    "import numpy as np\n",
    "import matplotlib.pyplot as plt\n",
    "from ipywidgets import interact, interactive\n",
    "from IPython.display import display\n",
    "\n",
    "import numpy as np\n",
    "\n",
    "from matplotlib import pyplot as plt\n",
    "\n",
    "def plot(colormap):\n",
    "\n",
    "    fig = plt.figure()\n",
    "    n = 100_000\n",
    "    x = np.random.standard_normal(n)\n",
    "    y = 2.0 + 3.0 * x + 4.0 * np.random.standard_normal(n)\n",
    "    xlim = x.min(), x.max()\n",
    "    ylim = y.min(), y.max()\n",
    "\n",
    "    ax0 = plt.axes()\n",
    "\n",
    "    hb = plt.hexbin(x, y, gridsize=50, bins='log', cmap=colormap)\n",
    "    ax0.set(xlim=xlim, ylim=ylim)\n",
    "    ax0.set_title(\"With a log color scale\")\n",
    "    fig.colorbar(hb, ax=ax0, label='log10(N)')\n",
    "    plt.show()\n",
    "\n",
    "w = interactive(plot, colormap=[ 'viridis', 'plasma', 'inferno', 'magma', 'cividis'])\n",
    "display(w)"
   ]
  },
  {
   "cell_type": "code",
   "execution_count": null,
   "metadata": {},
   "outputs": [],
   "source": []
  }
 ],
 "metadata": {
  "kernelspec": {
   "display_name": "jlab4",
   "language": "python",
   "name": "python3"
  },
  "language_info": {
   "codemirror_mode": {
    "name": "ipython",
    "version": 3
   },
   "file_extension": ".py",
   "mimetype": "text/x-python",
   "name": "python",
   "nbconvert_exporter": "python",
   "pygments_lexer": "ipython3",
   "version": "3.9.7"
  },
  "orig_nbformat": 4
 },
 "nbformat": 4,
 "nbformat_minor": 2
}
